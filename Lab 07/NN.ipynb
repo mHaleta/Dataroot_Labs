{
 "cells": [
  {
   "cell_type": "markdown",
   "metadata": {
    "colab_type": "text",
    "id": "GfMODGu7rcQS"
   },
   "source": [
    "# Neural Network\n",
    "\n",
    "Welcome to your next lab! You will solve problem of handwritten digits recognition using Neural Network.\n",
    "\n",
    "\n",
    "**You will learn to:**\n",
    "- Build the general architecture of a learning algorithm with OOP in mind:\n",
    "    - Helper utilities\n",
    "        - Sigmoid (and it's derivative)\n",
    "        - One-Hot\n",
    "        - Cost Function\n",
    "        - Regularization\n",
    "    - Neural Network Class\n",
    "        - Forward propagation\n",
    "        - Backward propagation\n",
    "        - Upgrade parameters\n",
    "    - Main Model Classes\n",
    "        - Training\n",
    "        - Prediction "
   ]
  },
  {
   "cell_type": "markdown",
   "metadata": {
    "colab_type": "text",
    "id": "YZHxDPk4rcQT"
   },
   "source": [
    "## 1 - Packages ##\n",
    "\n",
    "First, let's run the cell below to import all the packages that you will need during this assignment. \n",
    "- [numpy](www.numpy.org) is the fundamental package for scientific computing with Python.\n",
    "- [matplotlib](http://matplotlib.org) is a famous library to plot graphs in Python.\n",
    "- [seaborn](https://seaborn.pydata.org/) is a Python visualization library which provides a high-level interface for drawing attractive statistical graphics."
   ]
  },
  {
   "cell_type": "code",
   "execution_count": 1,
   "metadata": {
    "colab": {
     "autoexec": {
      "startup": false,
      "wait_interval": 0
     }
    },
    "colab_type": "code",
    "id": "ORs0sBnKrcQU"
   },
   "outputs": [],
   "source": [
    "import numpy as np\n",
    "import matplotlib.pyplot as plt\n",
    "import seaborn as sns\n",
    "\n",
    "%matplotlib inline\n",
    "sns.set(style='whitegrid', palette='muted', font_scale=1.5)"
   ]
  },
  {
   "cell_type": "markdown",
   "metadata": {
    "colab_type": "text",
    "id": "1dN7h9uyrcQW"
   },
   "source": [
    "## 2 - Overview of the Problem set ##\n",
    "\n",
    "**Problem Statement**: \n",
    "We'll use the MNIST data set, which contains tens of thousands of scanned images of handwritten digits, together with their correct classifications. MNIST's name comes from the fact that it is a modified subset of two data sets collected by NIST, the United States' National Institute of Standards and Technology.\n",
    "\n",
    "The MNIST dataset contains 60,000 images. These images are scanned handwriting samples from 250 people, half of whom were US Census Bureau employees, and half of whom were high school students. The images are greyscale and 28 by 28 pixels in size. \n",
    "So, you are given a dataset  containing:\n",
    "    - a training set of m_train examples labeld as 0-9\n",
    "    - a test set of m_test examples labeld as 0-9\n",
    "    - each example is an array of length 784 (28 * 28) which represents image of handwritten digit.\n",
    "    \n",
    "You will build an algorithm that can recognize handwritten digits.\n",
    "\n",
    "Let's get more familiar with the dataset. Load the data by running the following code."
   ]
  },
  {
   "cell_type": "code",
   "execution_count": 2,
   "metadata": {
    "colab": {
     "autoexec": {
      "startup": false,
      "wait_interval": 0
     }
    },
    "colab_type": "code",
    "id": "beyv9EkQrcQY"
   },
   "outputs": [],
   "source": [
    "# Read the MNIST dataset from ubyte files \n",
    "\n",
    "def read_mnist(images_path, labels_path):\n",
    "    import struct\n",
    "    import os\n",
    "    with open(labels_path, 'rb') as p:\n",
    "        magic, n = struct.unpack('>II', p.read(8))\n",
    "        labels = np.fromfile(p, dtype=np.uint8)\n",
    "    with open(images_path, 'rb') as p:\n",
    "        magic, num, rows, cols = struct.unpack(\">IIII\", p.read(16))\n",
    "        images = np.fromfile(p, dtype=np.uint8).reshape(len(labels), 784)\n",
    "\n",
    "    return images, labels\n",
    "\n",
    "# Shuffle dataset\n",
    "\n",
    "def shuffle_data(features, labels, random_seed=42):\n",
    "    assert len(features) == len(labels)\n",
    "\n",
    "    if random_seed:\n",
    "        np.random.seed(random_seed)\n",
    "    idx = np.random.permutation(len(features))\n",
    "    return [a[idx] for a in [features, labels]] \n",
    "\n",
    "# Loading data\n",
    "\n",
    "def load_data():     \n",
    "    X, y = read_mnist('samples/train-images-idx3-ubyte', 'samples/train-labels-idx1-ubyte')\n",
    "    X, y = shuffle_data(X, y, random_seed=42)\n",
    "    train_set_x, train_set_y = X[:5000], y[:5000]\n",
    "    test_set_x, test_set_y = X[5000:], y[5000:]\n",
    "    \n",
    "    test_set_x = test_set_x.reshape(test_set_x.shape[0], -1).T\n",
    "    train_set_x = train_set_x.reshape(train_set_x.shape[0], -1).T\n",
    "    train_set_y = train_set_y.reshape((1, train_set_y.shape[0]))\n",
    "    test_set_y = test_set_y.reshape((1, test_set_y.shape[0]))\n",
    "    \n",
    "    return train_set_x, test_set_x, train_set_y, test_set_y"
   ]
  },
  {
   "cell_type": "markdown",
   "metadata": {
    "colab_type": "text",
    "id": "ubqWjSy-rcQa"
   },
   "source": [
    "Let's create train and test datasets:"
   ]
  },
  {
   "cell_type": "code",
   "execution_count": 3,
   "metadata": {
    "colab": {
     "autoexec": {
      "startup": false,
      "wait_interval": 0
     }
    },
    "colab_type": "code",
    "id": "qjxlgf9zrcQa"
   },
   "outputs": [
    {
     "name": "stdout",
     "output_type": "stream",
     "text": [
      "train set shapes:  (784, 5000) (1, 5000)\n",
      "test set shapes:  (784, 55000) (1, 55000)\n"
     ]
    }
   ],
   "source": [
    "train_set_x, test_set_x, train_set_y, test_set_y = load_data()\n",
    "print('train set shapes: ', train_set_x.shape, train_set_y.shape)\n",
    "print('test set shapes: ', test_set_x.shape, test_set_y.shape)"
   ]
  },
  {
   "cell_type": "markdown",
   "metadata": {
    "colab_type": "text",
    "id": "NOlYBZ0OrcQc"
   },
   "source": [
    "**Expected Output**: \n",
    "\n",
    "<table style=\"width:30%\">\n",
    "    <tr>\n",
    "        <td> **train set shapes: ** </td>\n",
    "       <td> (784, 5000) (1, 5000)</td>\n",
    "        \n",
    "    </tr>\n",
    "    \n",
    "    <tr>\n",
    "        <td> **test set shapes: ** </td>\n",
    "       <td> (784, 55000) (1, 55000)</td>\n",
    "        \n",
    "    </tr>\n",
    "    \n",
    "\n",
    "</table>"
   ]
  },
  {
   "cell_type": "markdown",
   "metadata": {
    "colab_type": "text",
    "id": "skWPmakQrcQd"
   },
   "source": [
    "### Data exploration ###\n",
    "\n",
    "Let's build a function to check how the data looks like:"
   ]
  },
  {
   "cell_type": "code",
   "execution_count": 4,
   "metadata": {
    "colab": {
     "autoexec": {
      "startup": false,
      "wait_interval": 0
     }
    },
    "colab_type": "code",
    "id": "6QbZbLC-rcQd"
   },
   "outputs": [],
   "source": [
    "def plot_digit(x_set, y_set, idx):\n",
    "    img = x_set.T[idx].reshape(28,28)\n",
    "    plt.imshow(img, cmap='Greys',  interpolation='nearest')\n",
    "    plt.title('true label: %d' % y_set.T[idx])\n",
    "    plt.show()"
   ]
  },
  {
   "cell_type": "code",
   "execution_count": 5,
   "metadata": {
    "colab": {
     "autoexec": {
      "startup": false,
      "wait_interval": 0
     }
    },
    "colab_type": "code",
    "id": "TAhiHIFPrcQf"
   },
   "outputs": [
    {
     "data": {
      "image/png": "[encoded data removed]",
      "text/plain": [
       "<matplotlib.figure.Figure at 0x11e18ada7b8>"
      ]
     },
     "metadata": {},
     "output_type": "display_data"
    }
   ],
   "source": [
    "plot_digit(train_set_x, train_set_y, idx=1)"
   ]
  },
  {
   "cell_type": "code",
   "execution_count": 6,
   "metadata": {
    "colab": {
     "autoexec": {
      "startup": false,
      "wait_interval": 0
     }
    },
    "colab_type": "code",
    "id": "Vu2pein_rcQh"
   },
   "outputs": [
    {
     "data": {
      "image/png": "[encoded data removed]",
      "text/plain": [
       "<matplotlib.figure.Figure at 0x11e18ab8e10>"
      ]
     },
     "metadata": {},
     "output_type": "display_data"
    }
   ],
   "source": [
    "plot_digit(train_set_x, train_set_y, idx=3)"
   ]
  },
  {
   "cell_type": "markdown",
   "metadata": {
    "colab_type": "text",
    "id": "FjTJ3vlXrcQk"
   },
   "source": [
    "## 3 - Helper Functions\n",
    "\n",
    "For begining we need to implement some special functions.\n",
    "\n",
    "### Sigmoid (and it's derivative)\n",
    "\n",
    "Any layer of a neural network can be considered as an Affine Transformation followed by application of a non linear function. A vector is received as input and is multiplied with a matrix to produce an output , to which a bias vector may be added before passing the result through an activation function such as sigmoid.\n",
    "\n",
    "$$Input = x \\quad Output = f(Wx+b)\\tag{1}$$\n",
    "\n",
    "The sigmoid function is used quite commonly in the realm of deep learning, at least it was until recently. It has distinct **S** shape and it is a differentiable real function for any real input value. Additionally, it has a positive derivative at each point. More importantly, we will use it as an activation function for the hidden layer of our model. Here's how it is defined:\n",
    "\n",
    "$$\\sigma (x) = \\frac{1}{1+e^{-x}}\\tag{2}$$\n",
    "\n",
    "Here is first derivative (which we will use during the backpropagation step of our training algorithm). It has the following formula:\n",
    "\n",
    "$$\\frac{d\\sigma (x)}{d(x)} = \\sigma (x)\\cdot (1-\\sigma(x))\\tag{3}$$"
   ]
  },
  {
   "cell_type": "code",
   "execution_count": 7,
   "metadata": {
    "colab": {
     "autoexec": {
      "startup": false,
      "wait_interval": 0
     }
    },
    "colab_type": "code",
    "id": "g-d2fr5ZrcQk"
   },
   "outputs": [],
   "source": [
    "# GRADED CLASS: Sigmoid\n",
    "\n",
    "class Sigmoid:\n",
    "    def __call__(self, z):\n",
    "        \"\"\"\n",
    "        Compute the sigmoid of z\n",
    "\n",
    "        Arguments:\n",
    "        z -- scalar or numpy array of any size.\n",
    "\n",
    "        Return:\n",
    "        sigmoid(z)\n",
    "        \"\"\"\n",
    "        ### START CODE HERE ### (≈ 1 line of code)\n",
    "        return 1/(1+np.exp(-z))\n",
    "        ### END CODE HERE ###\n",
    "    \n",
    "    def prime(self, z):\n",
    "        \"\"\"\n",
    "        Compute the derivative of sigmoid of z\n",
    "\n",
    "        Arguments:\n",
    "        z -- scalar or numpy array of any size.\n",
    "\n",
    "        Return:\n",
    "        Sigmoid prime\n",
    "        \"\"\"\n",
    "        ### START CODE HERE ### (≈ 1-2 lines of code)\n",
    "        return self.__call__(z)*(1 - self.__call__(z))\n",
    "        ### END CODE HERE ###"
   ]
  },
  {
   "cell_type": "code",
   "execution_count": 8,
   "metadata": {
    "colab": {
     "autoexec": {
      "startup": false,
      "wait_interval": 0
     }
    },
    "colab_type": "code",
    "id": "rBFlF48xrcQn"
   },
   "outputs": [
    {
     "name": "stdout",
     "output_type": "stream",
     "text": [
      "sigmoid:\n",
      "[4.53978687e-05 5.55606489e-05 6.79983174e-05 8.32200197e-05\n",
      " 1.01848815e-04]\n",
      "sigmoid_prime: \n",
      "[4.53958077e-05 5.55575620e-05 6.79936937e-05 8.32130942e-05\n",
      " 1.01838442e-04]\n"
     ]
    }
   ],
   "source": [
    "x = np.linspace(-10., 10., num=100)\n",
    "sig = Sigmoid()(x)\n",
    "sig_prime = Sigmoid().prime(x)\n",
    "print('sigmoid:')\n",
    "print(sig[:5])\n",
    "print('sigmoid_prime: ')\n",
    "print(sig_prime[:5])"
   ]
  },
  {
   "cell_type": "markdown",
   "metadata": {
    "colab_type": "text",
    "id": "viMgshR3rcQo"
   },
   "source": [
    "**Expected Output**: \n",
    "\n",
    "<table style=\"width:25%\">\n",
    "    <tr>\n",
    "       <td> **sigmoid: ** </td>\n",
    "       <td> [  4.53978687e-05   5.55606489e-05   6.79983174e-05   8.32200197e-05\n",
    "   1.01848815e-04] </td>\n",
    "    </tr>\n",
    "    <tr>\n",
    "       <td> **sigmoid_prime: ** </td>\n",
    "       <td> [  4.53958077e-05   5.55575620e-05   6.79936937e-05   8.32130942e-05\n",
    "   1.01838442e-04] </td>\n",
    "    </tr>\n",
    "\n",
    "</table>"
   ]
  },
  {
   "cell_type": "markdown",
   "metadata": {
    "colab_type": "text",
    "id": "tmZftWXmrcQp"
   },
   "source": [
    "Now let's look at the picture:"
   ]
  },
  {
   "cell_type": "code",
   "execution_count": 9,
   "metadata": {
    "colab": {
     "autoexec": {
      "startup": false,
      "wait_interval": 0
     }
    },
    "colab_type": "code",
    "id": "um0eqOTmrcQp"
   },
   "outputs": [
    {
     "data": {
      "image/png": "[encoded data removed]",
      "text/plain": [
       "<matplotlib.figure.Figure at 0x11e18bd60f0>"
      ]
     },
     "metadata": {},
     "output_type": "display_data"
    }
   ],
   "source": [
    "plt.plot(x, sig, label=\"sigmoid\")\n",
    "plt.plot(x, sig_prime, label=\"sigmoid prime\")\n",
    "plt.xlabel(\"x\")\n",
    "plt.ylabel(\"y\")\n",
    "plt.legend(prop={'size' : 16})\n",
    "plt.show()"
   ]
  },
  {
   "cell_type": "markdown",
   "metadata": {
    "colab_type": "text",
    "id": "jBDfFhGrrcQr"
   },
   "source": [
    "The derivative shows the rate of change of a function. We can use it to determine the \"slope\" of that function. The highest rate of change for the sigmoid function is when $x=0$, as it is evident from the derivative graph."
   ]
  },
  {
   "cell_type": "markdown",
   "metadata": {
    "colab_type": "text",
    "id": "rA8DZ8hLrcQs"
   },
   "source": [
    "### One-Hot ###\n",
    "\n",
    "For convenience let's represent input labels $y$ as a 10-dimensional vector. For example, if a particular training image, $x$, depicts a 6, then $y(x)=(0,0,0,0,0,0,1,0,0,0)^T$ is the desired output from the network.\n",
    "\n",
    "So, let's encode our labels as one-hot vectors:"
   ]
  },
  {
   "cell_type": "code",
   "execution_count": 10,
   "metadata": {
    "colab": {
     "autoexec": {
      "startup": false,
      "wait_interval": 0
     }
    },
    "colab_type": "code",
    "id": "INLlyecGrcQt"
   },
   "outputs": [],
   "source": [
    "# GRADED FUNCTION: one_hot\n",
    "\n",
    "def one_hot(Y, n_classes):\n",
    "    \"\"\"\n",
    "    Encode labels into a one-hot representation\n",
    "\n",
    "    Arguments:\n",
    "    Y -- array of input labels of shape (1, n_samples)\n",
    "    n_classes -- number of classes\n",
    "\n",
    "    Returns:\n",
    "    onehot, a matrix of labels by samples. For each column, the ith index will be \n",
    "        \"hot\", or 1, to represent that index being the label; shape - (n_classes, n_samples)\n",
    "    \"\"\"\n",
    "    ### START CODE HERE ### (≈ 1-4 lines of code)\n",
    "    return np.eye(n_classes)[Y][0].T\n",
    "    ### END CODE HERE ###"
   ]
  },
  {
   "cell_type": "code",
   "execution_count": 11,
   "metadata": {
    "colab": {
     "autoexec": {
      "startup": false,
      "wait_interval": 0
     }
    },
    "colab_type": "code",
    "id": "fNLPz3NxrcQv"
   },
   "outputs": [
    {
     "name": "stdout",
     "output_type": "stream",
     "text": [
      "encoded:\n",
      "[[0. 0. 0. 0. 0.]\n",
      " [1. 0. 0. 0. 0.]\n",
      " [0. 1. 0. 0. 0.]\n",
      " [0. 0. 1. 0. 1.]\n",
      " [0. 0. 0. 1. 0.]]\n"
     ]
    }
   ],
   "source": [
    "print('encoded:')\n",
    "print(one_hot(np.asarray([1, 2, 3, 4, 3]).reshape(1, 5), 5))"
   ]
  },
  {
   "cell_type": "markdown",
   "metadata": {
    "colab_type": "text",
    "id": "JgU13t4PrcQw"
   },
   "source": [
    "**Expected Output**: \n",
    "\n",
    "<table style=\"width:19%\">\n",
    "    <tr>\n",
    "        <td> **encoded: ** </td>\n",
    "       <td> [[ 0.  0.  0.  0.  0.]\n",
    " [ 1.  0.  0.  0.  0.]\n",
    " [ 0.  1.  0.  0.  0.]\n",
    " [ 0.  0.  1.  0.  1.]\n",
    " [ 0.  0.  0.  1.  0.]]</td>\n",
    "    </tr>\n",
    "    "
   ]
  },
  {
   "cell_type": "markdown",
   "metadata": {
    "colab_type": "text",
    "id": "R5uVa8VCrcQx"
   },
   "source": [
    "### Cost Function ###\n",
    "\n",
    "Here is cost function for our model:\n",
    "$$J = - \\frac{1}{m} \\sum\\limits_{i = 0}^{m} \\sum\\limits_{j = 0}^{n}\\large{(} \\small y^{(i)}_{j}\\log\\left(a^{[2] (i)}_{j}\\right) + (1-y^{(i)}_{j})\\log\\left(1- a^{[2] (i)}_{j}\\right)  \\small\\large{)}\\tag{4}$$\n",
    "where \n",
    "\n",
    "$m$ - number of examples;\n",
    "\n",
    "$n$ - number of classes;\n",
    "\n",
    "$y$ - input labels;\n",
    "\n",
    "$a$ - output of hidden layer.\n",
    "\n",
    "\n",
    "We will use cross entropy loss:\n",
    "$- \\sum\\limits_{i=0}^{m}  y^{(i)}\\log(a^{[2](i)})\\tag{5}$"
   ]
  },
  {
   "cell_type": "code",
   "execution_count": 12,
   "metadata": {
    "colab": {
     "autoexec": {
      "startup": false,
      "wait_interval": 0
     }
    },
    "colab_type": "code",
    "id": "toLXsObJrcQy"
   },
   "outputs": [],
   "source": [
    "# GRADED FUNCTION: compute_cost\n",
    "\n",
    "def compute_cost(A2, Y):\n",
    "    \"\"\"\n",
    "    Computes the cross-entropy cost given in equation (4)\n",
    "    \n",
    "    Arguments:\n",
    "    A2 -- sigmoid output of the hidden layer activation, of shape (classes, n_examples)\n",
    "    Y -- labels of shape (classes, n_examples)\n",
    "    \n",
    "    Returns:\n",
    "    cost -- cross-entropy cost given equation (4)\n",
    "    \"\"\"\n",
    "    \n",
    "    m = Y.shape[1] # number of examples\n",
    "\n",
    "    # Compute the cross-entropy cost\n",
    "    ### START CODE HERE ###\n",
    "    cost = -np.sum(np.sum(Y*np.log(A2)+(1-Y)*np.log(1-A2), axis=1), axis=0) / m\n",
    "    ### END CODE HERE ###\n",
    "    \n",
    "    return cost"
   ]
  },
  {
   "cell_type": "code",
   "execution_count": 13,
   "metadata": {
    "colab": {
     "autoexec": {
      "startup": false,
      "wait_interval": 0
     }
    },
    "colab_type": "code",
    "id": "copZTxSercQ0"
   },
   "outputs": [
    {
     "name": "stdout",
     "output_type": "stream",
     "text": [
      "cost:1.3770374288047718\n"
     ]
    }
   ],
   "source": [
    "np.random.seed(1)\n",
    "labels = (np.random.randn(2, 3) > 0)\n",
    "a_h = (np.array([[ 0.5 ,  0.49,  0.5], [0.1 ,  0.2,  0.3]]))\n",
    "print(\"cost:\" + str(compute_cost(a_h, labels)))"
   ]
  },
  {
   "cell_type": "markdown",
   "metadata": {
    "colab_type": "text",
    "id": "awY8OGb9rcQ2"
   },
   "source": [
    "**Expected Output**: \n",
    "\n",
    "<table style=\"width:25%\">\n",
    "    <tr>\n",
    "       <td> **cost: ** </td>\n",
    "       <td> 1.3770374288 </td>\n",
    "    </tr>\n",
    "    \n",
    "\n",
    "</table>"
   ]
  },
  {
   "cell_type": "markdown",
   "metadata": {
    "colab_type": "text",
    "id": "bY-ZSMGercQ2"
   },
   "source": [
    "### Regularisation\n",
    "\n",
    "In order to create less complex (parsimonious) model when you have a large number of features in your dataset, some of the Regularization techniques used to address over-fitting and feature selection are:\n",
    "\n",
    "1. L1 Regularization\n",
    "\n",
    "2. L2 Regularization\n",
    "\n",
    "A regression model that uses L1 regularization technique is called Lasso Regression and model which uses L2 is called Ridge Regression.\n",
    "\n",
    "Lasso Regression (Least Absolute Shrinkage and Selection Operator) adds “absolute value of magnitude” of coefficient as penalty term to the cost function.\n",
    "\n",
    "Ridge regression adds “squared magnitude” of coefficient as penalty term to the loss function. \n",
    "The cost is then computed by summing squared diff over all training examples.\n",
    "$$J = - \\frac{1}{m} \\sum\\limits_{i = 0}^{m} \\sum\\limits_{j = 0}^{n}\\large{(} \\small y^{(i)}_{j}\\log\\left(a^{[2] (i)}_{j}\\right) + (1-y^{(i)}_{j})\\log\\left(1- a^{[2] (i)}_{j}\\right)  \\small\\large{)} + \\frac{\\lambda_1}{m}( ||w_1||_1 + ||w_2||_1) + \\frac{\\lambda_2}{2m} (||w_1||_2^2+||w_2||_2^2) \\tag{6}$$"
   ]
  },
  {
   "cell_type": "code",
   "execution_count": 14,
   "metadata": {
    "colab": {
     "autoexec": {
      "startup": false,
      "wait_interval": 0
     }
    },
    "colab_type": "code",
    "id": "40GkU8w4rcQ2"
   },
   "outputs": [],
   "source": [
    "# GRADED CLASS: Regularisation\n",
    "\n",
    "class Regularization:\n",
    "    \"\"\" \n",
    "    Regularization class\n",
    "\n",
    "    Arguments:\n",
    "    lambda_1 -- regularization coeficient for l1 regularization\n",
    "    lambda_2 -- regularization coeficient for l2 regularization\n",
    "    \"\"\"\n",
    "    def __init__(self, lambda_1, lambda_2):\n",
    "        self.lambda_1 = lambda_1\n",
    "        self.lambda_2 = lambda_2\n",
    "        \n",
    "        \n",
    "    def l1(self, W1, W2, m):\n",
    "        \"\"\" \n",
    "        Compute l1 regularization part\n",
    "\n",
    "        Arguments:\n",
    "        W1 -- weigts of shape (n_hidden_units, n_features) \n",
    "        W2 -- weigts of shape (output_size, n_hidden_units) \n",
    "        m -- n_examples\n",
    "\n",
    "        Returns:\n",
    "        l1_term -- float, check formula (6)\n",
    "        \"\"\"\n",
    "        ### START CODE HERE ###\n",
    "        return self.lambda_1 * (np.linalg.norm(W1, ord=1) + np.linalg.norm(W2, ord=1)) / m\n",
    "        ### END CODE HERE ###\n",
    "        \n",
    "    def l1_grad(self, W1, W2, m):\n",
    "        \"\"\" \n",
    "        Compute l1 regularization term\n",
    "\n",
    "        Arguments:\n",
    "        W1 -- weigts of shape (n_hidden_units, n_features) \n",
    "        W2 -- weigts of shape (output_size, n_hidden_units) \n",
    "        m -- n_examples\n",
    "\n",
    "        Returns:\n",
    "         dict with l1_grads \"dW1\" and \"dW2\"\n",
    "            which are grads by corresponding weights\n",
    "        \"\"\"\n",
    "        ### START CODE HERE ###\n",
    "        l1_grads = dict(dW1=self.lambda_1/m, dW2=self.lambda_1/m)\n",
    "        return l1_grads\n",
    "        ### END CODE HERE ###\n",
    "\n",
    "    def l2(self, W1, W2, m):\n",
    "        \"\"\" \n",
    "        Compute l2 regularization term\n",
    "\n",
    "        Arguments:\n",
    "        W1 -- weigts of shape (n_hidden_units, n_features) \n",
    "        W2 -- weigts of shape (output_size, n_hidden_units) \n",
    "        m -- n_examples\n",
    "\n",
    "        Returns:\n",
    "        l2_term: float, check formula (7)\n",
    "        \"\"\"\n",
    "        ### START CODE HERE ###\n",
    "        return self.lambda_2 * (np.linalg.norm(W1)**2 + np.linalg.norm(W2)**2) / (2*m)\n",
    "        ### END CODE HERE ###\n",
    "        \n",
    "    def l2_grad(self, W1, W2, m):\n",
    "        \"\"\" \n",
    "        Compute l2 regularization term\n",
    "\n",
    "        Arguments:\n",
    "        W1 -- weigts of shape (n_hidden_units, n_features) \n",
    "        W2 -- weigts of shape (output_size, n_hidden_units) \n",
    "        m -- n_examples\n",
    "\n",
    "        Returns:\n",
    "        l2_grads: dict with keys \"dW1\" and \"dW2\"\n",
    "        \"\"\"\n",
    "        ### START CODE HERE ###\n",
    "        l2_grads = dict(dW1=self.lambda_2*W1/m, dW2=self.lambda_2*W2/m)\n",
    "        return l2_grads\n",
    "        ### END CODE HERE ###"
   ]
  },
  {
   "cell_type": "code",
   "execution_count": 15,
   "metadata": {
    "colab": {
     "autoexec": {
      "startup": false,
      "wait_interval": 0
     }
    },
    "colab_type": "code",
    "id": "9p0bRXJ5rcQ5"
   },
   "outputs": [
    {
     "name": "stdout",
     "output_type": "stream",
     "text": [
      "l1 reg. term = 0.07200000000000001\n",
      "l2 reg. term = 0.04080000000000002\n",
      "l1 reg. gradient = {'dW1': 0.02, 'dW2': 0.02}\n",
      "l2 reg. gradient = {'dW1': array([0.004, 0.008, 0.012, 0.016]), 'dW2': array([0.02 , 0.024, 0.028, 0.032])}\n"
     ]
    }
   ],
   "source": [
    "reg = Regularization(0.1, 0.2)\n",
    "print('l1 reg. term =', reg.l1(np.array([0.1, 0.2, 0.3, 0.4]), np.array([0.5, 0.6, 0.7, 0.8]), 5))\n",
    "print('l2 reg. term =', reg.l2(np.array([0.1, 0.2, 0.3, 0.4]), np.array([0.5, 0.6, 0.7, 0.8]), 5))\n",
    "print('l1 reg. gradient =', reg.l1_grad(np.array([0.1, 0.2, 0.3, 0.4]), np.array([0.5, 0.6, 0.7, 0.8]), 5))\n",
    "print('l2 reg. gradient =', reg.l2_grad(np.array([0.1, 0.2, 0.3, 0.4]), np.array([0.5, 0.6, 0.7, 0.8]), 5))"
   ]
  },
  {
   "cell_type": "markdown",
   "metadata": {
    "colab_type": "text",
    "id": "iqVtxccvrcQ7"
   },
   "source": [
    "**Expected Output**: \n",
    "\n",
    "<table style=\"width:40%\">\n",
    "    <tr>\n",
    "       <td> **l1 reg. term** </td>\n",
    "       <td> 0.072 </td>\n",
    "    </tr>\n",
    "    <tr>\n",
    "       <td> **l2 reg. term** </td>\n",
    "       <td>  0.0408 </td>\n",
    "    </tr>\n",
    "    <tr>\n",
    "       <td> **l1 reg. gradient** </td>\n",
    "       <td> {'dW1': 0.02,  </td>\n",
    "       <td>  'dW2': 0.02} </td>\n",
    "    </tr>\n",
    "    <tr>\n",
    "       <td> **l2 reg. gradient** </td>\n",
    "       <td> {'dW1': array([ 0.004,  0.008,  0.012,  0.016]),\n",
    "  </td>\n",
    "      <td> 'dW2': array([ 0.02 ,  0.024,  0.028,  0.032])}\n",
    "      </td>\n",
    "    </tr>\n",
    "\n",
    "\n",
    "</table>"
   ]
  },
  {
   "cell_type": "markdown",
   "metadata": {
    "colab_type": "text",
    "id": "Ixbg4LqprcQ8"
   },
   "source": [
    "## 3 - Neural Network. General Architecture ##\n",
    "\n",
    "To recognize digits we will use a two-layer neural network. Here is model of our network:\n",
    "    <img src=\"samples/arc.png\" style=\"width:620px;height:500px;\">\n",
    "    \n",
    "The input layer of the network contains neurons encoding the values of the input pixels. As discussed earlier, training data consist of many 28 by 28 pixel images of scanned handwritten digits, and so the input layer contains $784=28×28$ neurons. The input pixels are greyscale, with a value of 0.0 representing white, a value of 1.0 representing black, and in between values representing gradually darkening shades of grey.\n",
    "\n",
    "The first layer of the network is a hidden layer. We denote the number of neurons in this hidden layer by n, and we'll experiment with different values for n. The example shown illustrates a small hidden layer, containing just $n=15$ neurons.\n",
    "\n",
    "The output layer of the network contains 10 neurons. If the first neuron fires, i.e., has an output $≈1$, then that will indicate that the network thinks the digit is a 0. If the second neuron fires then that will indicate that the network thinks the digit is a 1, and so on. A little more precisely, we number the output neurons from 0 through 9, and figure out which neuron has the highest activation value. If that neuron is, say, neuron number 6, then our network will guess that the input digit was a 6. And so on for the other output neurons.\n",
    "\n",
    "Each training input $x$ is a $28×28=784$-dimensional vector. Each entry in the vector represents the grey value for a single pixel in the image. \n"
   ]
  },
  {
   "cell_type": "markdown",
   "metadata": {
    "colab_type": "text",
    "id": "MZqGKYMYrcQ9"
   },
   "source": [
    "### 3.1 - Neural Network Class ####\n",
    "\n",
    "In this block we will implement class *NeuralNetwork*, which will perform forward and backward propagation, and update parameters.  \n",
    "\n",
    "**Main steps to build neural network:**\n",
    "    1. Initialize the model's parameters\n",
    "    2. Loop:\n",
    "        - Implement forward propagation\n",
    "        - Compute loss\n",
    "        - Implement backward propagation to get the gradients\n",
    "        - Update parameters (gradient descent)\n",
    "        \n",
    "**1. Initializing the model's parameters**\n",
    "You need to do following steps:\n",
    "- Make sure your parameters' sizes are right. Refer to the neural network figure above if needed.\n",
    "- You will initialize the weights matrices with random values. \n",
    "- You will initialize the bias vectors as zeros. \n",
    "   \n",
    "**2. Loop**\n",
    "\n",
    "   - *Forward propagation*\n",
    "   \n",
    "In forward propagation we use the data and the weights of the network to compute a prediction, so during this step we just multiply the matrix containing our training data with the matrix of the weights of the hidden layer.\n",
    "\n",
    "For one example $x^{(i)}$:\n",
    "$$z^{[1] (i)} =  W^{[1]} x^{(i)} + b^{[1]}\\tag{8}$$ \n",
    "$$a^{[1] (i)} = \\sigma(z^{[1] (i)})\\tag{9}$$\n",
    "$$z^{[2] (i)} = W^{[2]} a^{[1] (i)} + b^{[2]}\\tag{10}$$\n",
    "$$\\hat{y}^{(i)} = a^{[2] (i)} = \\sigma(z^{ [2] (i)})\\tag{11}$$\n",
    "$$y^{(i)}_{prediction} = \\begin{cases} 1 & \\mbox{if } a^{[2](i)} > 0.5 \\\\ 0 & \\mbox{otherwise } \\end{cases}\\tag{12}$$\n",
    "\n",
    "Definition: \n",
    "\n",
    "$W^{[1]}$: weights matrix 1\n",
    "\n",
    "$W^{[2]}$: weights matrix 2\n",
    "\n",
    "$b^{[1]}$: bias 1\n",
    "\n",
    "$b^{[2]}$: bias 2\n",
    "\n",
    "$z^{[1] (i)}$ : input of the hidden layer\n",
    "\n",
    "$a^{[1] (i)}$: activation of the hidden layer\n",
    "\n",
    "$z^{[2] (i)}$: input of the output layer \n",
    "\n",
    "$a^{[2] (i)}$: activation of the output layer\n",
    "\n",
    "$\\hat{y}^{(i)}$: array of predictions\n",
    "\n",
    "   - *Backward propagation*\n",
    "   \n",
    "In backpropagation step we apply the activation function (sigmoid) to the result and multiply that with the weight matrix of the output layer. \n",
    "\n",
    "<table style=\"width:80%\">\n",
    "    <tr>\n",
    "       <td> $dz^{[2]} = a^{[2]} - y$  </td>\n",
    "       <td> $dZ^{[2]} = A^{[2]} - Y$ </td>\n",
    "    </tr>\n",
    "    <tr>\n",
    "       <td> $dW^{[2]} = dz^{[2]}a^{[1]T} + \\frac{\\lambda_1}{m} + \\frac{\\lambda_2}{m}W^{[2]}$ </td>\n",
    "       <td>  $dW^{[2]} = \\frac{1}{m}dZ^{[2]}A^{[1]T} + \\frac{\\lambda_1}{m} + \\frac{\\lambda_2}{m}W^{[2]}$ </td\n",
    "       \n",
    "    </tr>\n",
    "    <tr>\n",
    "       <td> $db^{[2]} = dz^{[2]}$ </td>\n",
    "       <td> $db^{[2]} = \\frac{1}{m}np.sum(dZ^{[2]}, axis=1, keepdims=True)$ </td>\n",
    "    </tr>\n",
    "    <tr>\n",
    "       <td> $dz^{[1]} = W^{[2]T}dz^{[2]}*g^{[1]'}(z^{[1]})$ </td>\n",
    "       <td> $dZ^{[1]} = W^{[2]T}dZ^{[2]}*g^{[1]'}(Z^{[1]})$ </td>\n",
    "    </tr>\n",
    "    <tr>\n",
    "       <td> $dW^{[1]} = dz^{[1]}x^T + \\frac{\\lambda_1}{m} + \\frac{\\lambda_2}{m}W^{[1]}$ </td>\n",
    "       <td> $dW^{[1]} = \\frac{1}{m}dz^{[1]}X^T + \\frac{\\lambda_1}{m} + \\frac{\\lambda_2}{m}W^{[1]}$  </td>\n",
    "    </tr>\n",
    "    <tr>\n",
    "       <td> $db^{[1]} = dz^{[1]}$ </td>\n",
    "       <td> $db^{[1]} = \\frac{1}{m}np.sum(dZ^{[1]}, axis=1, keepdims=True)$  </td>\n",
    "    </tr>\n",
    "</table>\n",
    "\n",
    "   - *Update Parameters*\n",
    "   \n",
    "Next, the error is computed based on the prediction and the provided labels. The final step propagates the error through the network, starting from the final layer. Thus, the weights get updated based on the error, little by little. To implement this method we will use gradient descent. You have to use (dW1, db1, dW2, db2) in order to update (W1, b1, W2, b2).\n",
    "\n",
    "**General gradient descent rule**: $ \\theta = \\theta - \\alpha \\frac{\\partial J }{ \\partial \\theta }$ where $\\alpha$ is the learning rate and $\\theta$ represents a parameter.\n",
    "\n",
    "**Illustration**: The gradient descent algorithm with a good learning rate (converging) and a bad learning rate (diverging). Images courtesy of Adam Harley.\n",
    "\n",
    "<img src=\"samples/sgd.gif\" style=\"width:400;height:400;\"> <img src=\"samples/sgd_bad.gif\" style=\"width:400;height:400;\">\n",
    "\n",
    "\n",
    "Implement class `NeuralNetwork` in the cell below: "
   ]
  },
  {
   "cell_type": "code",
   "execution_count": 16,
   "metadata": {
    "colab": {
     "autoexec": {
      "startup": false,
      "wait_interval": 0
     }
    },
    "colab_type": "code",
    "id": "dQox_YlurcQ-"
   },
   "outputs": [],
   "source": [
    "# GRADED CLASS NeuralNetwork\n",
    "\n",
    "class NeuralNetwork:\n",
    "    \"\"\"\n",
    "    Arguments:\n",
    "    n_features: int -- Number of features\n",
    "    n_hidden_units: int -- Number of hidden units\n",
    "    n_classes: int -- Number of classes\n",
    "    learning_rate: float\n",
    "    reg: instance of Regularization class\n",
    "    \"\"\"\n",
    "    def __init__(self, n_features, n_hidden_units, n_classes , learning_rate, reg=Regularization(0.1, 0.2), sigm=Sigmoid()):\n",
    "        self.n_features = n_features\n",
    "        self.n_classes = n_classes\n",
    "        self.learning_rate = learning_rate\n",
    "        self.n_hidden_units = n_hidden_units\n",
    "        self.reg = reg\n",
    "        self.sigm = sigm\n",
    "        self.W1 = None\n",
    "        self.b1 = None\n",
    "        self.W2 = None\n",
    "        self.b2 = None\n",
    "        \n",
    "        self.initialize_parameters()\n",
    "\n",
    "    def initialize_parameters(self):\n",
    "        \"\"\"\n",
    "        Initializes \n",
    "        W1 -- weight matrix of shape (self.n_hidden_units, self.n_features)\n",
    "        b1 -- bias vector of shape (self.n_hidden_units, 1)\n",
    "        W2 -- weight matrix of shape (self.n_classes, self.n_hidden_units)\n",
    "        b2 -- bias vector of shape (self.n_classes, 1)\n",
    "        \"\"\"\n",
    "        np.random.seed(42) \n",
    "    \n",
    "        ### START CODE HERE ### \n",
    "        self.W1 = np.random.randn(self.n_hidden_units, self.n_features)*self.learning_rate\n",
    "        self.b1 = np.zeros((self.n_hidden_units, 1))\n",
    "        self.W2 = np.random.randn(self.n_classes, self.n_hidden_units)*self.learning_rate\n",
    "        self.b2 = np.zeros((self.n_classes, 1))\n",
    "        ### END CODE HERE ###\n",
    "\n",
    "    def forward_propagation(self, X):\n",
    "        \"\"\"\n",
    "        Arguments:\n",
    "        X -- input data of shape (number of features, number of examples)\n",
    "        \n",
    "        Returns:\n",
    "        dictionary containing \"Z1\", \"A1\", \"Z2\" and \"A2\"\n",
    "        \"\"\"\n",
    "        # Implement Forward Propagation to calculate A2 (probabilities)\n",
    "        ### START CODE HERE ### \n",
    "        Z1 = np.dot(self.W1, X) + self.b1\n",
    "        A1 = self.sigm(Z1)\n",
    "        Z2 = np.dot(self.W2, A1) + self.b2\n",
    "        A2 = self.sigm(Z2)\n",
    "        ### END CODE HERE ###\n",
    "\n",
    "        return {\n",
    "            'Z1': Z1,\n",
    "            'A1': A1,\n",
    "            'Z2': Z2,\n",
    "            'A2': A2\n",
    "        }\n",
    "    \n",
    "    def backward_propagation(self, X, Y, cache):\n",
    "        \"\"\"\n",
    "        Arguments:\n",
    "        X -- input data of shape (number of features, number of examples)\n",
    "        Y -- labels of shape (1, number of examples)\n",
    "        cache -- a dictionary containing \"Z1\", \"A1\", \"Z2\" and \"A2\"\n",
    "\n",
    "        Returns:\n",
    "        dictionary containing gradients \"dW1\", \"db1\", \"dW2\", \"db2\"\n",
    "        \"\"\"\n",
    "        m = X.shape[1]\n",
    "        \n",
    "        # Retrieve also A1 and A2 from dictionary \"cache\".\n",
    "        ### START CODE HERE ### \n",
    "        A1 = cache['A1']\n",
    "        A2 = cache['A2']\n",
    "        Z1 = cache['Z1']\n",
    "        Z2 = cache['Z2']\n",
    "        ### END CODE HERE ###\n",
    "\n",
    "        # Backward propagation: calculate dW1, db1, dW2, db2. \n",
    "        ### START CODE HERE ###\n",
    "        dZ2 = A2 - Y\n",
    "        dW2 = np.dot(dZ2, A1.T)/m + self.reg.l1_grad(self.W1, self.W2, m)['dW2'] + \\\n",
    "                    self.reg.l2_grad(self.W1, self.W2, m)['dW2']\n",
    "        db2 = np.sum(dZ2, axis=1, keepdims=True)/m\n",
    "        dZ1 = np.dot(self.W2.T, dZ2) * self.sigm.prime(Z1)\n",
    "        dW1 = np.dot(dZ1, X.T)/m + self.reg.l1_grad(self.W1, self.W2, m)['dW1'] + \\\n",
    "                    self.reg.l2_grad(self.W1, self.W2, m)['dW1']\n",
    "        db1 = np.sum(dZ1, axis=1, keepdims=True)/m\n",
    "        ### END CODE HERE ###\n",
    "\n",
    "        return {\n",
    "            'dW1': dW1,\n",
    "            'db1': db1,\n",
    "            'dW2': dW2,\n",
    "            'db2': db2\n",
    "        }\n",
    "\n",
    "    def update_parameters(self, grads):\n",
    "        \"\"\"\n",
    "        Updates parameters using the gradient descent update rule \n",
    "\n",
    "        Arguments:\n",
    "        grads -- python dictionary containing gradients \"dW1\", \"db1\", \"dW2\", \"db2\"\n",
    "        \"\"\"\n",
    "        # Retrieve each gradient from the dictionary \"grads\"\n",
    "        ### START CODE HERE ### \n",
    "        dW1 = grads['dW1']\n",
    "        db1 = grads['db1']\n",
    "        dW2 = grads['dW2']\n",
    "        db2 = grads['db2']\n",
    "        ## END CODE HERE ###\n",
    "\n",
    "        # Update each parameter\n",
    "        ### START CODE HERE ### \n",
    "        self.W1 = self.W1 - self.learning_rate * dW1\n",
    "        self.W2 = self.W2 - self.learning_rate * dW2\n",
    "        self.b1 = self.b1 - self.learning_rate * db1\n",
    "        self.b2 = self.b2 - self.learning_rate * db2\n",
    "        ### END CODE HERE ###"
   ]
  },
  {
   "cell_type": "markdown",
   "metadata": {
    "colab_type": "text",
    "id": "OV38UoLjrcRA"
   },
   "source": [
    "Init Neural Network class:"
   ]
  },
  {
   "cell_type": "code",
   "execution_count": 17,
   "metadata": {
    "colab": {
     "autoexec": {
      "startup": false,
      "wait_interval": 0
     }
    },
    "colab_type": "code",
    "id": "sN98l0qXrcRB"
   },
   "outputs": [],
   "source": [
    "nn_test = NeuralNetwork(2, 4, 1, 0.01)\n",
    "x_test = np.asarray([[1, 2, 1, 1], [2, 1, 2, 1]])\n",
    "y_test = np.asarray([1, 2, 1, 2]).reshape(1, 4)"
   ]
  },
  {
   "cell_type": "markdown",
   "metadata": {
    "colab_type": "text",
    "id": "ymsN6J8HrcRD"
   },
   "source": [
    "Initialize parameters test:"
   ]
  },
  {
   "cell_type": "code",
   "execution_count": 18,
   "metadata": {
    "colab": {
     "autoexec": {
      "startup": false,
      "wait_interval": 0
     }
    },
    "colab_type": "code",
    "id": "W8ZrHazfrcRD"
   },
   "outputs": [
    {
     "name": "stdout",
     "output_type": "stream",
     "text": [
      "W1: [[ 0.00496714 -0.00138264]\n",
      " [ 0.00647689  0.0152303 ]\n",
      " [-0.00234153 -0.00234137]\n",
      " [ 0.01579213  0.00767435]]\n",
      "b1: [[0.]\n",
      " [0.]\n",
      " [0.]\n",
      " [0.]]\n",
      "W2: [[-0.00469474  0.0054256  -0.00463418 -0.0046573 ]]\n",
      "b2: [[0.]]\n"
     ]
    }
   ],
   "source": [
    "print('W1:', nn_test.W1)\n",
    "print('b1:', nn_test.b1)\n",
    "print('W2:', nn_test.W2)\n",
    "print('b2:', nn_test.b2)"
   ]
  },
  {
   "cell_type": "markdown",
   "metadata": {
    "colab_type": "text",
    "id": "vGxLujVQrcRG"
   },
   "source": [
    "**Expected Output**: \n",
    "\n",
    "<table style=\"width:35%\">\n",
    "\n",
    "    <tr>\n",
    "       <td> **W1** </td>\n",
    "       <td> [[ 0.00496714 -0.00138264]\n",
    " [ 0.00647689  0.0152303 ]\n",
    " [-0.00234153 -0.00234137]\n",
    " [ 0.01579213  0.00767435]] </td>\n",
    "    </tr>\n",
    "    <tr>\n",
    "       <td> **b1** </td>\n",
    "       <td> [[ 0.]\n",
    " [ 0.]\n",
    " [ 0.]\n",
    " [ 0.]] </td>\n",
    "    </tr>\n",
    "    <tr>\n",
    "       <td> **W2** </td>\n",
    "       <td> [[-0.00469474  0.0054256  -0.00463418 -0.0046573 ]] </td>\n",
    "    </tr>\n",
    "    <tr>\n",
    "       <td> **b2** </td>\n",
    "       <td> [[ 0.]] </td>\n",
    "</table>"
   ]
  },
  {
   "cell_type": "markdown",
   "metadata": {
    "colab_type": "text",
    "id": "W7cE_v6brcRG"
   },
   "source": [
    "Forward method test:"
   ]
  },
  {
   "cell_type": "code",
   "execution_count": 19,
   "metadata": {
    "colab": {
     "autoexec": {
      "startup": false,
      "wait_interval": 0
     }
    },
    "colab_type": "code",
    "id": "YhqZSQOircRH"
   },
   "outputs": [
    {
     "name": "stdout",
     "output_type": "stream",
     "text": [
      "Z1: [[ 0.00220186  0.00855164  0.00220186  0.0035845 ]\n",
      " [ 0.03693748  0.02818407  0.03693748  0.02170718]\n",
      " [-0.00702427 -0.00702444 -0.00702427 -0.0046829 ]\n",
      " [ 0.03114082  0.0392586   0.03114082  0.02346648]]\n",
      "A1: [[0.50055046 0.5021379  0.50055046 0.50089612]\n",
      " [0.50923332 0.50704555 0.50923332 0.50542658]\n",
      " [0.49824394 0.4982439  0.49824394 0.49882928]\n",
      " [0.50778458 0.50981339 0.50778458 0.50586635]]\n",
      "Z2: [[-0.00426091 -0.00428969 -0.00426091 -0.00427697]]\n",
      "A2: [[0.49893477 0.49892758 0.49893477 0.49893076]]\n"
     ]
    }
   ],
   "source": [
    "cache = nn_test.forward_propagation(x_test)\n",
    "print('Z1:',cache['Z1'])\n",
    "print('A1:',cache['A1'])\n",
    "print('Z2:',cache['Z2'])\n",
    "print('A2:',cache['A2'])"
   ]
  },
  {
   "cell_type": "markdown",
   "metadata": {
    "colab_type": "text",
    "id": "fSDutx2QrcRI"
   },
   "source": [
    "**Expected Output**: \n",
    "\n",
    "<table style=\"width:60%\">\n",
    "    <tr>\n",
    "       <td> **Z1** </td>\n",
    "       <td> [[ 0.00220186  0.00855164  0.00220186  0.0035845 ]\n",
    " [ 0.03693748  0.02818407  0.03693748  0.02170718]\n",
    " [-0.00702427 -0.00702444 -0.00702427 -0.0046829 ]\n",
    " [ 0.03114082  0.0392586   0.03114082  0.02346648]] </td>\n",
    "    </tr>\n",
    "    <tr>\n",
    "       <td> **A1** </td>\n",
    "       <td> [[ 0.50055046  0.5021379   0.50055046  0.50089612]\n",
    " [ 0.50923332  0.50704555  0.50923332  0.50542658]\n",
    " [ 0.49824394  0.4982439   0.49824394  0.49882928]\n",
    " [ 0.50778458  0.50981339  0.50778458  0.50586635]] </td>\n",
    "    </tr>\n",
    "    <tr>\n",
    "       <td> **Z2** </td>\n",
    "       <td> [[-0.00426091 -0.00428969 -0.00426091 -0.00427697]] </td>\n",
    "    </tr>\n",
    "    <tr>\n",
    "       <td> **A2** </td>\n",
    "       <td> [[ 0.49893477  0.49892758  0.49893477  0.49893076]]</td>\n",
    "</table>"
   ]
  },
  {
   "cell_type": "markdown",
   "metadata": {
    "colab_type": "text",
    "id": "qR7nh5NCrcRI"
   },
   "source": [
    "Backward method test:"
   ]
  },
  {
   "cell_type": "code",
   "execution_count": 20,
   "metadata": {
    "colab": {
     "autoexec": {
      "startup": false,
      "wait_interval": 0
     }
    },
    "colab_type": "code",
    "id": "iWmjuZ5urcRJ"
   },
   "outputs": [
    {
     "name": "stdout",
     "output_type": "stream",
     "text": [
      "dW1: [[0.02686373 0.02639984]\n",
      " [0.02345736 0.02406424]\n",
      " [0.02647745 0.02633295]\n",
      " [0.02739164 0.02684062]]\n",
      "db1: [[ 0.00117493]\n",
      " [-0.00135757]\n",
      " [ 0.00115977]\n",
      " [ 0.00116527]]\n",
      "dW2: [[-0.47704523 -0.48225637 -0.47422743 -0.48360127]]\n",
      "db2: [[-1.00106803]]\n"
     ]
    }
   ],
   "source": [
    "grads = nn_test.backward_propagation(x_test, y_test, cache)\n",
    "print (\"dW1: \"+ str(grads[\"dW1\"]))\n",
    "print (\"db1: \"+ str(grads[\"db1\"]))\n",
    "print (\"dW2: \"+ str(grads[\"dW2\"]))\n",
    "print (\"db2: \"+ str(grads[\"db2\"]))"
   ]
  },
  {
   "cell_type": "markdown",
   "metadata": {
    "colab_type": "text",
    "id": "hGjkm8eLrcRL"
   },
   "source": [
    "**Expected Output**: \n",
    "\n",
    "<table style=\"width:45%\">\n",
    "\n",
    "    <tr>\n",
    "       <td> **dW1** </td>\n",
    "       <td> [[ 0.02686373  0.02639984]\n",
    " [ 0.02345736  0.02406424]\n",
    " [ 0.02647745  0.02633295]\n",
    " [ 0.02739164  0.02684062]] </td>\n",
    "    </tr>\n",
    "    <tr>\n",
    "       <td> **db1** </td>\n",
    "       <td> [[ 0.00117493]\n",
    " [-0.00135757]\n",
    " [ 0.00115977]\n",
    " [ 0.00116527]]</td>\n",
    "    </tr>\n",
    "    <tr>\n",
    "       <td> **dW2** </td>\n",
    "       <td> [[-0.47704523 -0.48225637 -0.47422743 -0.48360127]] </td>\n",
    "    </tr>\n",
    "    <tr>\n",
    "       <td> **db2** </td>\n",
    "       <td> [[-1.00106803]] </td>\n",
    "    </tr>\n",
    "</table>"
   ]
  },
  {
   "cell_type": "markdown",
   "metadata": {
    "colab_type": "text",
    "id": "QPUbpsY5rcRM"
   },
   "source": [
    "### 3.2 - Model ####\n",
    "\n",
    "Now we can aggregate all previous modules into a classifier:"
   ]
  },
  {
   "cell_type": "code",
   "execution_count": 21,
   "metadata": {
    "colab": {
     "autoexec": {
      "startup": false,
      "wait_interval": 0
     }
    },
    "colab_type": "code",
    "id": "lFr66y7ercRM"
   },
   "outputs": [],
   "source": [
    "# GRADED CLASS NNClassifier\n",
    "\n",
    "class NNClassifier:\n",
    "    \"\"\"\n",
    "    NNClassifier class\n",
    "    \n",
    "    Arguments:\n",
    "    model -- instance of NN\n",
    "    epochs: int -- Number of epochs\n",
    "    \"\"\"\n",
    "    def __init__(self, model, epochs=1000):\n",
    "        self.model = model\n",
    "        self.epochs = epochs\n",
    "        self._cost = [] # Write value of cost function after each epoch to build graph later\n",
    "    \n",
    "    def fit(self, X, Y):\n",
    "        \"\"\"\n",
    "        Learn weights and errors from training data\n",
    "\n",
    "        Arguments:\n",
    "        X -- input data of shape (number of features, number of examples)\n",
    "        Y -- labels of shape (1, number of examples)\n",
    "        \"\"\"\n",
    "    \n",
    "        ### START CODE HERE ### \n",
    "        Y = one_hot(Y, self.model.n_classes)\n",
    "        for i in range(self.epochs):\n",
    "            cache = self.model.forward_propagation(X)\n",
    "            grads = self.model.backward_propagation(X, Y, cache)\n",
    "            self.model.update_parameters(grads)\n",
    "            if i%1000 == 0:\n",
    "                self._cost.append(compute_cost(cache['A2'], Y))\n",
    "        \n",
    "        for i in range(len(self._cost)):\n",
    "            if i == 0:\n",
    "                print(\"Cost after iteration 0: \" + str(self._cost[i]))\n",
    "            else:\n",
    "                print(\"Cost after iteration \" + str(i) + \"000: \" + str(self._cost[i]))\n",
    "        ### END CODE HERE ###\n",
    "    \n",
    "    def predict(self, X):\n",
    "        \"\"\"\n",
    "        Generate array of predicted labels for the input dataset\n",
    "        \n",
    "        Arguments:\n",
    "        X -- input data of shape (number of features, number of examples)\n",
    "        \n",
    "        Returns:\n",
    "        predicted labels of shape (1, n_samples)\n",
    "        \"\"\"\n",
    "        \n",
    "        ### START CODE HERE ### (≈ 2 lines of code)\n",
    "        cache = self.model.forward_propagation(X)\n",
    "        ### END CODE HERE ###\n",
    "\n",
    "        return np.argmax(cache['A2'], axis=0).T"
   ]
  },
  {
   "cell_type": "markdown",
   "metadata": {
    "colab_type": "text",
    "id": "m_J_Jv9SrcRQ"
   },
   "source": [
    "Accuracy:"
   ]
  },
  {
   "cell_type": "code",
   "execution_count": 22,
   "metadata": {
    "colab": {
     "autoexec": {
      "startup": false,
      "wait_interval": 0
     }
    },
    "colab_type": "code",
    "id": "WPvNG1HArcRQ"
   },
   "outputs": [],
   "source": [
    "def accuracy(pred, labels):\n",
    "    return (np.sum(pred == labels, axis=1) / float(labels.shape[1]))[0]"
   ]
  },
  {
   "cell_type": "markdown",
   "metadata": {
    "colab_type": "text",
    "id": "-2cHUv4CrcRU"
   },
   "source": [
    "Function for visualizing an error change:"
   ]
  },
  {
   "cell_type": "code",
   "execution_count": 23,
   "metadata": {
    "colab": {
     "autoexec": {
      "startup": false,
      "wait_interval": 0
     }
    },
    "colab_type": "code",
    "id": "AqhzjlfZrcRU"
   },
   "outputs": [],
   "source": [
    "def plot_error(model, epochs):\n",
    "    plt.plot(range(len(model._cost)), model._cost)\n",
    "    plt.ylim([0, epochs])\n",
    "    plt.ylabel('Error')\n",
    "    plt.xlabel('Epochs')\n",
    "    plt.show()"
   ]
  },
  {
   "cell_type": "markdown",
   "metadata": {
    "colab_type": "text",
    "id": "WqWqxvE7rcRW"
   },
   "source": [
    "## 4 - Training \n",
    "\n",
    "Let's initialize our classifier:"
   ]
  },
  {
   "cell_type": "code",
   "execution_count": 24,
   "metadata": {
    "colab": {
     "autoexec": {
      "startup": false,
      "wait_interval": 0
     }
    },
    "colab_type": "code",
    "id": "D8vjQ1_drcRX"
   },
   "outputs": [],
   "source": [
    "NN = NeuralNetwork(784, 30, 10, 0.01)\n",
    "classifier = NNClassifier(NN, 5000)"
   ]
  },
  {
   "cell_type": "code",
   "execution_count": 25,
   "metadata": {
    "colab": {
     "autoexec": {
      "startup": false,
      "wait_interval": 0
     }
    },
    "colab_type": "code",
    "id": "fuey9U4QrcRY"
   },
   "outputs": [
    {
     "name": "stdout",
     "output_type": "stream",
     "text": [
      "Cost after iteration 0: 6.855245690775136\n",
      "Cost after iteration 1000: 2.7711640973519134\n",
      "Cost after iteration 2000: 1.847022676549232\n",
      "Cost after iteration 3000: 1.279772764618446\n",
      "Cost after iteration 4000: 0.9637710496810996\n"
     ]
    }
   ],
   "source": [
    "classifier.fit(train_set_x, train_set_y)"
   ]
  },
  {
   "cell_type": "markdown",
   "metadata": {
    "colab_type": "text",
    "id": "7JNIuNR4rcRZ"
   },
   "source": [
    "**Expected output:**\n",
    "\n",
    "Cost after iteration 0: 6.882955\n",
    "\n",
    "Cost after iteration 1000: 2.837659\n",
    "\n",
    "Cost after iteration 2000: 2.086768\n",
    "\n",
    "Cost after iteration 3000: 1.748324\n",
    "\n",
    "Cost after iteration 4000: 1.656835"
   ]
  },
  {
   "cell_type": "code",
   "execution_count": 26,
   "metadata": {
    "colab": {
     "autoexec": {
      "startup": false,
      "wait_interval": 0
     }
    },
    "colab_type": "code",
    "id": "HRZl2Yl0rcRa"
   },
   "outputs": [
    {
     "data": {
      "image/png": "[encoded data removed]",
      "text/plain": [
       "<matplotlib.figure.Figure at 0x11e18c7ccf8>"
      ]
     },
     "metadata": {},
     "output_type": "display_data"
    }
   ],
   "source": [
    "plot_error(classifier, 10)"
   ]
  },
  {
   "cell_type": "markdown",
   "metadata": {
    "colab_type": "text",
    "id": "ZU01dCkxrcRa"
   },
   "source": [
    "## 5 - Making predictions"
   ]
  },
  {
   "cell_type": "code",
   "execution_count": 27,
   "metadata": {
    "colab": {
     "autoexec": {
      "startup": false,
      "wait_interval": 0
     }
    },
    "colab_type": "code",
    "id": "WOpTw9j7rcRb"
   },
   "outputs": [
    {
     "name": "stdout",
     "output_type": "stream",
     "text": [
      "train set accuracy:  0.9472\n",
      "test set accuracy:  0.8706545454545455\n"
     ]
    }
   ],
   "source": [
    "pred_train = classifier.predict(train_set_x)\n",
    "pred_test = classifier.predict(test_set_x)\n",
    "\n",
    "print('train set accuracy: ', accuracy(pred_train, train_set_y))\n",
    "print('test set accuracy: ', accuracy(pred_test, test_set_y))"
   ]
  },
  {
   "cell_type": "markdown",
   "metadata": {
    "colab_type": "text",
    "id": "XYBXdJpLrcRc"
   },
   "source": [
    "**Expected Output**: \n",
    "\n",
    "<table style=\"width:40%\">\n",
    "    <tr>\n",
    "       <td> **train set accuracy: ** </td>\n",
    "       <td> 0.9504 </td>\n",
    "    </tr>\n",
    "    <tr>\n",
    "       <td> **test set accuracy: ** </td>\n",
    "       <td> 0.86970909 </td>\n",
    "    </tr>\n",
    "\n",
    "\n",
    "\n",
    "</table>"
   ]
  },
  {
   "cell_type": "markdown",
   "metadata": {
    "colab_type": "text",
    "id": "GA32kXLzrcRd"
   },
   "source": [
    "Now we can check our classifier on single example:"
   ]
  },
  {
   "cell_type": "code",
   "execution_count": 28,
   "metadata": {
    "colab": {
     "autoexec": {
      "startup": false,
      "wait_interval": 0
     }
    },
    "colab_type": "code",
    "id": "jC0-KSTjrcRd"
   },
   "outputs": [
    {
     "data": {
      "image/png": "[encoded data removed]",
      "text/plain": [
       "<matplotlib.figure.Figure at 0x11e18cdd7b8>"
      ]
     },
     "metadata": {},
     "output_type": "display_data"
    }
   ],
   "source": [
    "plot_digit(test_set_x, test_set_y, idx=6)"
   ]
  },
  {
   "cell_type": "code",
   "execution_count": 29,
   "metadata": {
    "colab": {
     "autoexec": {
      "startup": false,
      "wait_interval": 0
     }
    },
    "colab_type": "code",
    "id": "mGSinEG2rcRf"
   },
   "outputs": [
    {
     "name": "stdout",
     "output_type": "stream",
     "text": [
      "The digit is 0\n"
     ]
    }
   ],
   "source": [
    "pred_single = classifier.predict(test_set_x.T[6].reshape(784, 1))\n",
    "print(\"The digit is \" + str(pred_single[0]))"
   ]
  },
  {
   "cell_type": "code",
   "execution_count": 30,
   "metadata": {
    "colab": {
     "autoexec": {
      "startup": false,
      "wait_interval": 0
     }
    },
    "colab_type": "code",
    "id": "QeCRbbkArcRg"
   },
   "outputs": [
    {
     "data": {
      "image/png": "[encoded data removed]",
      "text/plain": [
       "<matplotlib.figure.Figure at 0x11e18d2fe10>"
      ]
     },
     "metadata": {},
     "output_type": "display_data"
    }
   ],
   "source": [
    "plot_digit(test_set_x, test_set_y, idx=90)"
   ]
  },
  {
   "cell_type": "code",
   "execution_count": 31,
   "metadata": {
    "colab": {
     "autoexec": {
      "startup": false,
      "wait_interval": 0
     }
    },
    "colab_type": "code",
    "id": "eZM_KmWprcRi"
   },
   "outputs": [
    {
     "name": "stdout",
     "output_type": "stream",
     "text": [
      "The digit is 2\n"
     ]
    }
   ],
   "source": [
    "pred_single = classifier.predict(test_set_x.T[90].reshape(784, 1))\n",
    "print(\"The digit is \" + str(pred_single[0]))"
   ]
  },
  {
   "cell_type": "markdown",
   "metadata": {
    "colab_type": "text",
    "id": "vJo13IZHrcRk"
   },
   "source": [
    "## 7 - Conclusion\n",
    "As we can see, our model fits well the hypothesis function to the data.\n",
    "\n",
    "#### What's next:\n",
    "1. Try to experiment with different parameters to to make prediction better.\n",
    "2. Compare the results you have obtained with the `sklearn.neural_network` models.\n",
    "3. Try this model in the wild! Select your favorite dataset [here](https://www.kaggle.com/datasets?sortBy=hottest&group=public&page=1&pageSize=20&size=small&filetype=all&license=all&tagids=13303) and play with it."
   ]
  }
 ],
 "metadata": {
  "colab": {
   "collapsed_sections": [
    "rA8DZ8hLrcQs",
    "R5uVa8VCrcQx",
    "MZqGKYMYrcQ9",
    "QPUbpsY5rcRM"
   ],
   "default_view": {},
   "name": "NN.ipynb",
   "provenance": [],
   "version": "0.3.2",
   "views": {}
  },
  "kernelspec": {
   "display_name": "Python 3",
   "language": "python",
   "name": "python3"
  },
  "language_info": {
   "codemirror_mode": {
    "name": "ipython",
    "version": 3
   },
   "file_extension": ".py",
   "mimetype": "text/x-python",
   "name": "python",
   "nbconvert_exporter": "python",
   "pygments_lexer": "ipython3",
   "version": "3.7.3"
  }
 },
 "nbformat": 4,
 "nbformat_minor": 1
}
